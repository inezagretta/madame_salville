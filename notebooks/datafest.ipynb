{
 "cells": [
  {
   "cell_type": "code",
   "execution_count": 1,
   "id": "69cd0340",
   "metadata": {},
   "outputs": [],
   "source": [
    "import pandas as pd"
   ]
  },
  {
   "cell_type": "markdown",
   "id": "b5707587",
   "metadata": {},
   "source": [
    "## Data"
   ]
  },
  {
   "cell_type": "markdown",
   "id": "ffa34dda",
   "metadata": {},
   "source": [
    "### Leases"
   ]
  },
  {
   "cell_type": "code",
   "execution_count": 5,
   "id": "685cd79f",
   "metadata": {},
   "outputs": [
    {
     "data": {
      "text/html": [
       "<div>\n",
       "<style scoped>\n",
       "    .dataframe tbody tr th:only-of-type {\n",
       "        vertical-align: middle;\n",
       "    }\n",
       "\n",
       "    .dataframe tbody tr th {\n",
       "        vertical-align: top;\n",
       "    }\n",
       "\n",
       "    .dataframe thead th {\n",
       "        text-align: right;\n",
       "    }\n",
       "</style>\n",
       "<table border=\"1\" class=\"dataframe\">\n",
       "  <thead>\n",
       "    <tr style=\"text-align: right;\">\n",
       "      <th></th>\n",
       "      <th>year</th>\n",
       "      <th>quarter</th>\n",
       "      <th>monthsigned</th>\n",
       "      <th>market</th>\n",
       "      <th>building_name</th>\n",
       "      <th>building_id</th>\n",
       "      <th>address</th>\n",
       "      <th>region</th>\n",
       "      <th>city</th>\n",
       "      <th>state</th>\n",
       "      <th>...</th>\n",
       "      <th>overall_rent</th>\n",
       "      <th>direct_available_space</th>\n",
       "      <th>direct_availability_proportion</th>\n",
       "      <th>direct_internal_class_rent</th>\n",
       "      <th>direct_overall_rent</th>\n",
       "      <th>sublet_available_space</th>\n",
       "      <th>sublet_availability_proportion</th>\n",
       "      <th>sublet_internal_class_rent</th>\n",
       "      <th>sublet_overall_rent</th>\n",
       "      <th>leasing</th>\n",
       "    </tr>\n",
       "  </thead>\n",
       "  <tbody>\n",
       "    <tr>\n",
       "      <th>0</th>\n",
       "      <td>2018</td>\n",
       "      <td>Q1</td>\n",
       "      <td>1.0</td>\n",
       "      <td>Atlanta</td>\n",
       "      <td>10 Glenlake North Tower</td>\n",
       "      <td>Atlanta_Central Perimeter_Atlanta_10 Glenlake ...</td>\n",
       "      <td>10 Glenlake Pky NE</td>\n",
       "      <td>South</td>\n",
       "      <td>Atlanta</td>\n",
       "      <td>GA</td>\n",
       "      <td>...</td>\n",
       "      <td>24.345689</td>\n",
       "      <td>NaN</td>\n",
       "      <td>NaN</td>\n",
       "      <td>NaN</td>\n",
       "      <td>NaN</td>\n",
       "      <td>NaN</td>\n",
       "      <td>NaN</td>\n",
       "      <td>NaN</td>\n",
       "      <td>NaN</td>\n",
       "      <td>1205126.0</td>\n",
       "    </tr>\n",
       "    <tr>\n",
       "      <th>1</th>\n",
       "      <td>2018</td>\n",
       "      <td>Q1</td>\n",
       "      <td>1.0</td>\n",
       "      <td>Atlanta</td>\n",
       "      <td>100 City View</td>\n",
       "      <td>Atlanta_Northwest_Atlanta_100 City View_3330 C...</td>\n",
       "      <td>3330 Cumberland Blvd</td>\n",
       "      <td>South</td>\n",
       "      <td>Atlanta</td>\n",
       "      <td>GA</td>\n",
       "      <td>...</td>\n",
       "      <td>24.345689</td>\n",
       "      <td>NaN</td>\n",
       "      <td>NaN</td>\n",
       "      <td>NaN</td>\n",
       "      <td>NaN</td>\n",
       "      <td>NaN</td>\n",
       "      <td>NaN</td>\n",
       "      <td>NaN</td>\n",
       "      <td>NaN</td>\n",
       "      <td>1205126.0</td>\n",
       "    </tr>\n",
       "    <tr>\n",
       "      <th>2</th>\n",
       "      <td>2018</td>\n",
       "      <td>Q1</td>\n",
       "      <td>1.0</td>\n",
       "      <td>Atlanta</td>\n",
       "      <td>1000 Parkwood</td>\n",
       "      <td>Atlanta_Northwest_Atlanta_1000 Parkwood_1000 P...</td>\n",
       "      <td>1000 Parkwood Cir SE</td>\n",
       "      <td>South</td>\n",
       "      <td>Atlanta</td>\n",
       "      <td>GA</td>\n",
       "      <td>...</td>\n",
       "      <td>24.345689</td>\n",
       "      <td>NaN</td>\n",
       "      <td>NaN</td>\n",
       "      <td>NaN</td>\n",
       "      <td>NaN</td>\n",
       "      <td>NaN</td>\n",
       "      <td>NaN</td>\n",
       "      <td>NaN</td>\n",
       "      <td>NaN</td>\n",
       "      <td>1205126.0</td>\n",
       "    </tr>\n",
       "    <tr>\n",
       "      <th>3</th>\n",
       "      <td>2018</td>\n",
       "      <td>Q1</td>\n",
       "      <td>1.0</td>\n",
       "      <td>Atlanta</td>\n",
       "      <td>1100 Circle 75</td>\n",
       "      <td>Atlanta_Northwest_Atlanta_1100 Circle 75_1100 ...</td>\n",
       "      <td>1100 Circle 75 Pky SE</td>\n",
       "      <td>South</td>\n",
       "      <td>Atlanta</td>\n",
       "      <td>GA</td>\n",
       "      <td>...</td>\n",
       "      <td>24.345689</td>\n",
       "      <td>NaN</td>\n",
       "      <td>NaN</td>\n",
       "      <td>NaN</td>\n",
       "      <td>NaN</td>\n",
       "      <td>NaN</td>\n",
       "      <td>NaN</td>\n",
       "      <td>NaN</td>\n",
       "      <td>NaN</td>\n",
       "      <td>715742.0</td>\n",
       "    </tr>\n",
       "    <tr>\n",
       "      <th>4</th>\n",
       "      <td>2018</td>\n",
       "      <td>Q1</td>\n",
       "      <td>1.0</td>\n",
       "      <td>Atlanta</td>\n",
       "      <td>1200 Ashwood</td>\n",
       "      <td>Atlanta_Central Perimeter_Atlanta_1200 Ashwood...</td>\n",
       "      <td>1200 Ashwood Pky</td>\n",
       "      <td>South</td>\n",
       "      <td>Atlanta</td>\n",
       "      <td>GA</td>\n",
       "      <td>...</td>\n",
       "      <td>24.345689</td>\n",
       "      <td>NaN</td>\n",
       "      <td>NaN</td>\n",
       "      <td>NaN</td>\n",
       "      <td>NaN</td>\n",
       "      <td>NaN</td>\n",
       "      <td>NaN</td>\n",
       "      <td>NaN</td>\n",
       "      <td>NaN</td>\n",
       "      <td>1205126.0</td>\n",
       "    </tr>\n",
       "  </tbody>\n",
       "</table>\n",
       "<p>5 rows × 35 columns</p>\n",
       "</div>"
      ],
      "text/plain": [
       "   year quarter  monthsigned   market            building_name  \\\n",
       "0  2018      Q1          1.0  Atlanta  10 Glenlake North Tower   \n",
       "1  2018      Q1          1.0  Atlanta            100 City View   \n",
       "2  2018      Q1          1.0  Atlanta            1000 Parkwood   \n",
       "3  2018      Q1          1.0  Atlanta           1100 Circle 75   \n",
       "4  2018      Q1          1.0  Atlanta             1200 Ashwood   \n",
       "\n",
       "                                         building_id                address  \\\n",
       "0  Atlanta_Central Perimeter_Atlanta_10 Glenlake ...     10 Glenlake Pky NE   \n",
       "1  Atlanta_Northwest_Atlanta_100 City View_3330 C...   3330 Cumberland Blvd   \n",
       "2  Atlanta_Northwest_Atlanta_1000 Parkwood_1000 P...   1000 Parkwood Cir SE   \n",
       "3  Atlanta_Northwest_Atlanta_1100 Circle 75_1100 ...  1100 Circle 75 Pky SE   \n",
       "4  Atlanta_Central Perimeter_Atlanta_1200 Ashwood...       1200 Ashwood Pky   \n",
       "\n",
       "  region     city state  ...  overall_rent direct_available_space  \\\n",
       "0  South  Atlanta    GA  ...     24.345689                    NaN   \n",
       "1  South  Atlanta    GA  ...     24.345689                    NaN   \n",
       "2  South  Atlanta    GA  ...     24.345689                    NaN   \n",
       "3  South  Atlanta    GA  ...     24.345689                    NaN   \n",
       "4  South  Atlanta    GA  ...     24.345689                    NaN   \n",
       "\n",
       "  direct_availability_proportion  direct_internal_class_rent  \\\n",
       "0                            NaN                         NaN   \n",
       "1                            NaN                         NaN   \n",
       "2                            NaN                         NaN   \n",
       "3                            NaN                         NaN   \n",
       "4                            NaN                         NaN   \n",
       "\n",
       "  direct_overall_rent sublet_available_space sublet_availability_proportion  \\\n",
       "0                 NaN                    NaN                            NaN   \n",
       "1                 NaN                    NaN                            NaN   \n",
       "2                 NaN                    NaN                            NaN   \n",
       "3                 NaN                    NaN                            NaN   \n",
       "4                 NaN                    NaN                            NaN   \n",
       "\n",
       "  sublet_internal_class_rent  sublet_overall_rent    leasing  \n",
       "0                        NaN                  NaN  1205126.0  \n",
       "1                        NaN                  NaN  1205126.0  \n",
       "2                        NaN                  NaN  1205126.0  \n",
       "3                        NaN                  NaN   715742.0  \n",
       "4                        NaN                  NaN  1205126.0  \n",
       "\n",
       "[5 rows x 35 columns]"
      ]
     },
     "execution_count": 5,
     "metadata": {},
     "output_type": "execute_result"
    }
   ],
   "source": [
    "# Leases Data\n",
    "leases = pd.read_csv('Leases.csv')\n",
    "leases.head()"
   ]
  },
  {
   "cell_type": "code",
   "execution_count": 11,
   "id": "eb8002d6",
   "metadata": {},
   "outputs": [
    {
     "name": "stdout",
     "output_type": "stream",
     "text": [
      "<class 'pandas.core.frame.DataFrame'>\n",
      "RangeIndex: 194685 entries, 0 to 194684\n",
      "Data columns (total 35 columns):\n",
      " #   Column                          Non-Null Count   Dtype  \n",
      "---  ------                          --------------   -----  \n",
      " 0   year                            194685 non-null  int64  \n",
      " 1   quarter                         194685 non-null  object \n",
      " 2   monthsigned                     193822 non-null  float64\n",
      " 3   market                          194685 non-null  object \n",
      " 4   building_name                   157999 non-null  object \n",
      " 5   building_id                     194685 non-null  object \n",
      " 6   address                         194685 non-null  object \n",
      " 7   region                          194685 non-null  object \n",
      " 8   city                            194685 non-null  object \n",
      " 9   state                           194685 non-null  object \n",
      " 10  zip                             194684 non-null  float64\n",
      " 11  internal_submarket              194685 non-null  object \n",
      " 12  internal_class                  194676 non-null  object \n",
      " 13  leasedSF                        194685 non-null  float64\n",
      " 14  company_name                    37216 non-null   object \n",
      " 15  internal_industry               26401 non-null   object \n",
      " 16  transaction_type                194146 non-null  object \n",
      " 17  internal_market_cluster         75838 non-null   object \n",
      " 18  costarID                        194685 non-null  int64  \n",
      " 19  space_type                      187140 non-null  object \n",
      " 20  CBD_suburban                    194685 non-null  object \n",
      " 21  RBA                             145541 non-null  float64\n",
      " 22  available_space                 145541 non-null  float64\n",
      " 23  availability_proportion         145541 non-null  float64\n",
      " 24  internal_class_rent             145541 non-null  float64\n",
      " 25  overall_rent                    145541 non-null  float64\n",
      " 26  direct_available_space          121674 non-null  float64\n",
      " 27  direct_availability_proportion  121674 non-null  float64\n",
      " 28  direct_internal_class_rent      121674 non-null  float64\n",
      " 29  direct_overall_rent             121674 non-null  float64\n",
      " 30  sublet_available_space          121674 non-null  float64\n",
      " 31  sublet_availability_proportion  121674 non-null  float64\n",
      " 32  sublet_internal_class_rent      121674 non-null  float64\n",
      " 33  sublet_overall_rent             121674 non-null  float64\n",
      " 34  leasing                         145541 non-null  float64\n",
      "dtypes: float64(17), int64(2), object(16)\n",
      "memory usage: 52.0+ MB\n"
     ]
    }
   ],
   "source": [
    "leases.info()"
   ]
  },
  {
   "cell_type": "code",
   "execution_count": 19,
   "id": "98a3d56f",
   "metadata": {},
   "outputs": [
    {
     "data": {
      "text/plain": [
       "year                                                                           2019\n",
       "quarter                                                                          Q1\n",
       "monthsigned                                                                     1.0\n",
       "market                                                                      Atlanta\n",
       "building_name                                                        1000 Circle 75\n",
       "building_id                       Atlanta_Northwest_Atlanta_1000 Circle 75_1000 ...\n",
       "address                                                       1000 Circle 75 Pky SE\n",
       "region                                                                        South\n",
       "city                                                                        Atlanta\n",
       "state                                                                            GA\n",
       "zip                                                                         30339.0\n",
       "internal_submarket                                                        Northwest\n",
       "internal_class                                                                    O\n",
       "leasedSF                                                                     4207.0\n",
       "company_name                                                                    NaN\n",
       "internal_industry                                                               NaN\n",
       "transaction_type                                                                New\n",
       "internal_market_cluster                                                         NaN\n",
       "costarID                                                                     434719\n",
       "space_type                                                                    Relet\n",
       "CBD_suburban                                                               Suburban\n",
       "RBA                                                                      66290064.0\n",
       "available_space                                                          12085998.0\n",
       "availability_proportion                                                     0.18232\n",
       "internal_class_rent                                                       20.385196\n",
       "overall_rent                                                                26.6522\n",
       "direct_available_space                                                   11135117.0\n",
       "direct_availability_proportion                                               0.0655\n",
       "direct_internal_class_rent                                                20.481839\n",
       "direct_overall_rent                                                       26.925077\n",
       "sublet_available_space                                                     950881.0\n",
       "sublet_availability_proportion                                               0.0056\n",
       "sublet_internal_class_rent                                                19.013882\n",
       "sublet_overall_rent                                                       22.546657\n",
       "leasing                                                                    877328.0\n",
       "Name: 7558, dtype: object"
      ]
     },
     "execution_count": 19,
     "metadata": {},
     "output_type": "execute_result"
    }
   ],
   "source": [
    "leases.iloc[7558]"
   ]
  },
  {
   "cell_type": "code",
   "execution_count": 21,
   "id": "93bcbf24",
   "metadata": {},
   "outputs": [
    {
     "data": {
      "text/plain": [
       "year                                                                           2018\n",
       "quarter                                                                          Q1\n",
       "monthsigned                                                                     1.0\n",
       "market                                                                      Atlanta\n",
       "building_name                                               10 Glenlake North Tower\n",
       "building_id                       Atlanta_Central Perimeter_Atlanta_10 Glenlake ...\n",
       "address                                                          10 Glenlake Pky NE\n",
       "region                                                                        South\n",
       "city                                                                        Atlanta\n",
       "state                                                                            GA\n",
       "zip                                                                         30328.0\n",
       "internal_submarket                                                Central Perimeter\n",
       "internal_class                                                                    A\n",
       "leasedSF                                                                    24736.0\n",
       "company_name                                            Capital Investment Advisors\n",
       "internal_industry                                  Financial Services and Insurance\n",
       "transaction_type                                                          Expansion\n",
       "internal_market_cluster                                                         NaN\n",
       "costarID                                                                     445509\n",
       "space_type                                                                    Relet\n",
       "CBD_suburban                                                               Suburban\n",
       "RBA                                                                     101140416.0\n",
       "available_space                                                          20239067.0\n",
       "availability_proportion                                                    0.200109\n",
       "internal_class_rent                                                       27.655891\n",
       "overall_rent                                                              24.345689\n",
       "direct_available_space                                                          NaN\n",
       "direct_availability_proportion                                                  NaN\n",
       "direct_internal_class_rent                                                      NaN\n",
       "direct_overall_rent                                                             NaN\n",
       "sublet_available_space                                                          NaN\n",
       "sublet_availability_proportion                                                  NaN\n",
       "sublet_internal_class_rent                                                      NaN\n",
       "sublet_overall_rent                                                             NaN\n",
       "leasing                                                                   1205126.0\n",
       "Name: 0, dtype: object"
      ]
     },
     "execution_count": 21,
     "metadata": {},
     "output_type": "execute_result"
    }
   ],
   "source": [
    "leases.iloc[0]"
   ]
  },
  {
   "cell_type": "markdown",
   "id": "c5ff1cd4",
   "metadata": {},
   "source": [
    "### Major Market Occupancy"
   ]
  },
  {
   "cell_type": "code",
   "execution_count": 6,
   "id": "d36f17c5",
   "metadata": {},
   "outputs": [
    {
     "data": {
      "text/html": [
       "<div>\n",
       "<style scoped>\n",
       "    .dataframe tbody tr th:only-of-type {\n",
       "        vertical-align: middle;\n",
       "    }\n",
       "\n",
       "    .dataframe tbody tr th {\n",
       "        vertical-align: top;\n",
       "    }\n",
       "\n",
       "    .dataframe thead th {\n",
       "        text-align: right;\n",
       "    }\n",
       "</style>\n",
       "<table border=\"1\" class=\"dataframe\">\n",
       "  <thead>\n",
       "    <tr style=\"text-align: right;\">\n",
       "      <th></th>\n",
       "      <th>year</th>\n",
       "      <th>quarter</th>\n",
       "      <th>market</th>\n",
       "      <th>ending_occupancy_proportion</th>\n",
       "      <th>starting_occupancy_proportion</th>\n",
       "      <th>avg_occupancy_proportion</th>\n",
       "    </tr>\n",
       "  </thead>\n",
       "  <tbody>\n",
       "    <tr>\n",
       "      <th>0</th>\n",
       "      <td>2020</td>\n",
       "      <td>Q1</td>\n",
       "      <td>Washington D.C.</td>\n",
       "      <td>0.19</td>\n",
       "      <td>0.98</td>\n",
       "      <td>0.785714</td>\n",
       "    </tr>\n",
       "    <tr>\n",
       "      <th>1</th>\n",
       "      <td>2020</td>\n",
       "      <td>Q1</td>\n",
       "      <td>Manhattan</td>\n",
       "      <td>0.08</td>\n",
       "      <td>0.98</td>\n",
       "      <td>0.732857</td>\n",
       "    </tr>\n",
       "    <tr>\n",
       "      <th>2</th>\n",
       "      <td>2020</td>\n",
       "      <td>Q1</td>\n",
       "      <td>Chicago</td>\n",
       "      <td>0.14</td>\n",
       "      <td>0.99</td>\n",
       "      <td>0.788571</td>\n",
       "    </tr>\n",
       "    <tr>\n",
       "      <th>3</th>\n",
       "      <td>2020</td>\n",
       "      <td>Q1</td>\n",
       "      <td>Houston</td>\n",
       "      <td>0.33</td>\n",
       "      <td>0.99</td>\n",
       "      <td>0.835714</td>\n",
       "    </tr>\n",
       "    <tr>\n",
       "      <th>4</th>\n",
       "      <td>2020</td>\n",
       "      <td>Q1</td>\n",
       "      <td>Philadelphia</td>\n",
       "      <td>0.20</td>\n",
       "      <td>0.99</td>\n",
       "      <td>0.817143</td>\n",
       "    </tr>\n",
       "  </tbody>\n",
       "</table>\n",
       "</div>"
      ],
      "text/plain": [
       "   year quarter           market  ending_occupancy_proportion  \\\n",
       "0  2020      Q1  Washington D.C.                         0.19   \n",
       "1  2020      Q1        Manhattan                         0.08   \n",
       "2  2020      Q1          Chicago                         0.14   \n",
       "3  2020      Q1          Houston                         0.33   \n",
       "4  2020      Q1     Philadelphia                         0.20   \n",
       "\n",
       "   starting_occupancy_proportion  avg_occupancy_proportion  \n",
       "0                           0.98                  0.785714  \n",
       "1                           0.98                  0.732857  \n",
       "2                           0.99                  0.788571  \n",
       "3                           0.99                  0.835714  \n",
       "4                           0.99                  0.817143  "
      ]
     },
     "execution_count": 6,
     "metadata": {},
     "output_type": "execute_result"
    }
   ],
   "source": [
    "# Major Market Occupancy Data\n",
    "market_occupancy = pd.read_csv('Major Market Occupancy Data-revised.csv')\n",
    "market_occupancy.head()"
   ]
  },
  {
   "cell_type": "code",
   "execution_count": 12,
   "id": "303c9f01",
   "metadata": {},
   "outputs": [
    {
     "name": "stdout",
     "output_type": "stream",
     "text": [
      "<class 'pandas.core.frame.DataFrame'>\n",
      "RangeIndex: 190 entries, 0 to 189\n",
      "Data columns (total 6 columns):\n",
      " #   Column                         Non-Null Count  Dtype  \n",
      "---  ------                         --------------  -----  \n",
      " 0   year                           190 non-null    int64  \n",
      " 1   quarter                        190 non-null    object \n",
      " 2   market                         190 non-null    object \n",
      " 3   ending_occupancy_proportion    190 non-null    float64\n",
      " 4   starting_occupancy_proportion  190 non-null    float64\n",
      " 5   avg_occupancy_proportion       190 non-null    float64\n",
      "dtypes: float64(3), int64(1), object(2)\n",
      "memory usage: 9.0+ KB\n"
     ]
    }
   ],
   "source": [
    "market_occupancy.info()"
   ]
  },
  {
   "cell_type": "code",
   "execution_count": 15,
   "id": "9e920312",
   "metadata": {},
   "outputs": [
    {
     "data": {
      "text/plain": [
       "year                                        2020\n",
       "quarter                                       Q1\n",
       "market                           Washington D.C.\n",
       "ending_occupancy_proportion                 0.19\n",
       "starting_occupancy_proportion               0.98\n",
       "avg_occupancy_proportion                0.785714\n",
       "Name: 0, dtype: object"
      ]
     },
     "execution_count": 15,
     "metadata": {},
     "output_type": "execute_result"
    }
   ],
   "source": [
    "market_occupancy.iloc[0]"
   ]
  },
  {
   "cell_type": "markdown",
   "id": "88f715c2",
   "metadata": {},
   "source": [
    "### Price And Availability"
   ]
  },
  {
   "cell_type": "code",
   "execution_count": 7,
   "id": "25b292b5",
   "metadata": {},
   "outputs": [
    {
     "data": {
      "text/html": [
       "<div>\n",
       "<style scoped>\n",
       "    .dataframe tbody tr th:only-of-type {\n",
       "        vertical-align: middle;\n",
       "    }\n",
       "\n",
       "    .dataframe tbody tr th {\n",
       "        vertical-align: top;\n",
       "    }\n",
       "\n",
       "    .dataframe thead th {\n",
       "        text-align: right;\n",
       "    }\n",
       "</style>\n",
       "<table border=\"1\" class=\"dataframe\">\n",
       "  <thead>\n",
       "    <tr style=\"text-align: right;\">\n",
       "      <th></th>\n",
       "      <th>year</th>\n",
       "      <th>quarter</th>\n",
       "      <th>market</th>\n",
       "      <th>internal_class</th>\n",
       "      <th>RBA</th>\n",
       "      <th>available_space</th>\n",
       "      <th>availability_proportion</th>\n",
       "      <th>internal_class_rent</th>\n",
       "      <th>overall_rent</th>\n",
       "      <th>direct_available_space</th>\n",
       "      <th>direct_availability_proportion</th>\n",
       "      <th>direct_internal_class_rent</th>\n",
       "      <th>direct_overall_rent</th>\n",
       "      <th>sublet_available_space</th>\n",
       "      <th>sublet_availability_proportion</th>\n",
       "      <th>sublet_internal_class_rent</th>\n",
       "      <th>sublet_overall_rent</th>\n",
       "      <th>leasing</th>\n",
       "    </tr>\n",
       "  </thead>\n",
       "  <tbody>\n",
       "    <tr>\n",
       "      <th>0</th>\n",
       "      <td>2018</td>\n",
       "      <td>Q1</td>\n",
       "      <td>Atlanta</td>\n",
       "      <td>A</td>\n",
       "      <td>101140416</td>\n",
       "      <td>20239067</td>\n",
       "      <td>0.200109</td>\n",
       "      <td>27.655891</td>\n",
       "      <td>24.345689</td>\n",
       "      <td>NaN</td>\n",
       "      <td>NaN</td>\n",
       "      <td>NaN</td>\n",
       "      <td>NaN</td>\n",
       "      <td>NaN</td>\n",
       "      <td>NaN</td>\n",
       "      <td>NaN</td>\n",
       "      <td>NaN</td>\n",
       "      <td>1205126</td>\n",
       "    </tr>\n",
       "    <tr>\n",
       "      <th>1</th>\n",
       "      <td>2018</td>\n",
       "      <td>Q1</td>\n",
       "      <td>Atlanta</td>\n",
       "      <td>O</td>\n",
       "      <td>65810449</td>\n",
       "      <td>12728989</td>\n",
       "      <td>0.193419</td>\n",
       "      <td>18.560886</td>\n",
       "      <td>24.345689</td>\n",
       "      <td>NaN</td>\n",
       "      <td>NaN</td>\n",
       "      <td>NaN</td>\n",
       "      <td>NaN</td>\n",
       "      <td>NaN</td>\n",
       "      <td>NaN</td>\n",
       "      <td>NaN</td>\n",
       "      <td>NaN</td>\n",
       "      <td>715742</td>\n",
       "    </tr>\n",
       "    <tr>\n",
       "      <th>2</th>\n",
       "      <td>2018</td>\n",
       "      <td>Q1</td>\n",
       "      <td>Austin</td>\n",
       "      <td>A</td>\n",
       "      <td>36815073</td>\n",
       "      <td>4281986</td>\n",
       "      <td>0.116311</td>\n",
       "      <td>40.384706</td>\n",
       "      <td>36.596618</td>\n",
       "      <td>NaN</td>\n",
       "      <td>NaN</td>\n",
       "      <td>NaN</td>\n",
       "      <td>NaN</td>\n",
       "      <td>NaN</td>\n",
       "      <td>NaN</td>\n",
       "      <td>NaN</td>\n",
       "      <td>NaN</td>\n",
       "      <td>1738905</td>\n",
       "    </tr>\n",
       "    <tr>\n",
       "      <th>3</th>\n",
       "      <td>2018</td>\n",
       "      <td>Q1</td>\n",
       "      <td>Austin</td>\n",
       "      <td>O</td>\n",
       "      <td>27947525</td>\n",
       "      <td>3360936</td>\n",
       "      <td>0.121082</td>\n",
       "      <td>30.118658</td>\n",
       "      <td>36.596618</td>\n",
       "      <td>NaN</td>\n",
       "      <td>NaN</td>\n",
       "      <td>NaN</td>\n",
       "      <td>NaN</td>\n",
       "      <td>NaN</td>\n",
       "      <td>NaN</td>\n",
       "      <td>NaN</td>\n",
       "      <td>NaN</td>\n",
       "      <td>185674</td>\n",
       "    </tr>\n",
       "    <tr>\n",
       "      <th>4</th>\n",
       "      <td>2018</td>\n",
       "      <td>Q1</td>\n",
       "      <td>Baltimore</td>\n",
       "      <td>A</td>\n",
       "      <td>41033288</td>\n",
       "      <td>6813380</td>\n",
       "      <td>0.166045</td>\n",
       "      <td>27.104835</td>\n",
       "      <td>22.954034</td>\n",
       "      <td>NaN</td>\n",
       "      <td>NaN</td>\n",
       "      <td>NaN</td>\n",
       "      <td>NaN</td>\n",
       "      <td>NaN</td>\n",
       "      <td>NaN</td>\n",
       "      <td>NaN</td>\n",
       "      <td>NaN</td>\n",
       "      <td>380750</td>\n",
       "    </tr>\n",
       "  </tbody>\n",
       "</table>\n",
       "</div>"
      ],
      "text/plain": [
       "   year quarter     market internal_class        RBA  available_space  \\\n",
       "0  2018      Q1    Atlanta              A  101140416         20239067   \n",
       "1  2018      Q1    Atlanta              O   65810449         12728989   \n",
       "2  2018      Q1     Austin              A   36815073          4281986   \n",
       "3  2018      Q1     Austin              O   27947525          3360936   \n",
       "4  2018      Q1  Baltimore              A   41033288          6813380   \n",
       "\n",
       "   availability_proportion  internal_class_rent  overall_rent  \\\n",
       "0                 0.200109            27.655891     24.345689   \n",
       "1                 0.193419            18.560886     24.345689   \n",
       "2                 0.116311            40.384706     36.596618   \n",
       "3                 0.121082            30.118658     36.596618   \n",
       "4                 0.166045            27.104835     22.954034   \n",
       "\n",
       "   direct_available_space  direct_availability_proportion  \\\n",
       "0                     NaN                             NaN   \n",
       "1                     NaN                             NaN   \n",
       "2                     NaN                             NaN   \n",
       "3                     NaN                             NaN   \n",
       "4                     NaN                             NaN   \n",
       "\n",
       "   direct_internal_class_rent  direct_overall_rent  sublet_available_space  \\\n",
       "0                         NaN                  NaN                     NaN   \n",
       "1                         NaN                  NaN                     NaN   \n",
       "2                         NaN                  NaN                     NaN   \n",
       "3                         NaN                  NaN                     NaN   \n",
       "4                         NaN                  NaN                     NaN   \n",
       "\n",
       "   sublet_availability_proportion  sublet_internal_class_rent  \\\n",
       "0                             NaN                         NaN   \n",
       "1                             NaN                         NaN   \n",
       "2                             NaN                         NaN   \n",
       "3                             NaN                         NaN   \n",
       "4                             NaN                         NaN   \n",
       "\n",
       "   sublet_overall_rent  leasing  \n",
       "0                  NaN  1205126  \n",
       "1                  NaN   715742  \n",
       "2                  NaN  1738905  \n",
       "3                  NaN   185674  \n",
       "4                  NaN   380750  "
      ]
     },
     "execution_count": 7,
     "metadata": {},
     "output_type": "execute_result"
    }
   ],
   "source": [
    "# Price and Availability Data\n",
    "price_and_availability = pd.read_csv('Price and Availability Data.csv')\n",
    "price_and_availability.head()"
   ]
  },
  {
   "cell_type": "code",
   "execution_count": 13,
   "id": "11d29127",
   "metadata": {},
   "outputs": [
    {
     "name": "stdout",
     "output_type": "stream",
     "text": [
      "<class 'pandas.core.frame.DataFrame'>\n",
      "RangeIndex: 1680 entries, 0 to 1679\n",
      "Data columns (total 18 columns):\n",
      " #   Column                          Non-Null Count  Dtype  \n",
      "---  ------                          --------------  -----  \n",
      " 0   year                            1680 non-null   int64  \n",
      " 1   quarter                         1680 non-null   object \n",
      " 2   market                          1680 non-null   object \n",
      " 3   internal_class                  1680 non-null   object \n",
      " 4   RBA                             1680 non-null   int64  \n",
      " 5   available_space                 1680 non-null   int64  \n",
      " 6   availability_proportion         1680 non-null   float64\n",
      " 7   internal_class_rent             1680 non-null   float64\n",
      " 8   overall_rent                    1680 non-null   float64\n",
      " 9   direct_available_space          1380 non-null   float64\n",
      " 10  direct_availability_proportion  1380 non-null   float64\n",
      " 11  direct_internal_class_rent      1380 non-null   float64\n",
      " 12  direct_overall_rent             1380 non-null   float64\n",
      " 13  sublet_available_space          1380 non-null   float64\n",
      " 14  sublet_availability_proportion  1380 non-null   float64\n",
      " 15  sublet_internal_class_rent      1380 non-null   float64\n",
      " 16  sublet_overall_rent             1380 non-null   float64\n",
      " 17  leasing                         1680 non-null   int64  \n",
      "dtypes: float64(11), int64(4), object(3)\n",
      "memory usage: 236.4+ KB\n"
     ]
    }
   ],
   "source": [
    "price_and_availability.info()"
   ]
  },
  {
   "cell_type": "code",
   "execution_count": 20,
   "id": "d9b76042",
   "metadata": {},
   "outputs": [
    {
     "data": {
      "text/plain": [
       "year                                    2019\n",
       "quarter                                   Q2\n",
       "market                             Manhattan\n",
       "internal_class                             O\n",
       "RBA                                200026077\n",
       "available_space                     18165113\n",
       "availability_proportion             0.090814\n",
       "internal_class_rent                61.404651\n",
       "overall_rent                       80.483238\n",
       "direct_available_space            14086664.0\n",
       "direct_availability_proportion        0.0315\n",
       "direct_internal_class_rent         61.723811\n",
       "direct_overall_rent                83.104269\n",
       "sublet_available_space             4078449.0\n",
       "sublet_availability_proportion        0.0091\n",
       "sublet_internal_class_rent         57.206137\n",
       "sublet_overall_rent                57.587003\n",
       "leasing                              3477494\n",
       "Name: 327, dtype: object"
      ]
     },
     "execution_count": 20,
     "metadata": {},
     "output_type": "execute_result"
    }
   ],
   "source": [
    "price_and_availability.iloc[327]"
   ]
  },
  {
   "cell_type": "markdown",
   "id": "d12778a5",
   "metadata": {},
   "source": [
    "### Unemployment"
   ]
  },
  {
   "cell_type": "code",
   "execution_count": 8,
   "id": "8681073e",
   "metadata": {},
   "outputs": [
    {
     "data": {
      "text/html": [
       "<div>\n",
       "<style scoped>\n",
       "    .dataframe tbody tr th:only-of-type {\n",
       "        vertical-align: middle;\n",
       "    }\n",
       "\n",
       "    .dataframe tbody tr th {\n",
       "        vertical-align: top;\n",
       "    }\n",
       "\n",
       "    .dataframe thead th {\n",
       "        text-align: right;\n",
       "    }\n",
       "</style>\n",
       "<table border=\"1\" class=\"dataframe\">\n",
       "  <thead>\n",
       "    <tr style=\"text-align: right;\">\n",
       "      <th></th>\n",
       "      <th>year</th>\n",
       "      <th>quarter</th>\n",
       "      <th>month</th>\n",
       "      <th>state</th>\n",
       "      <th>unemployment_rate</th>\n",
       "    </tr>\n",
       "  </thead>\n",
       "  <tbody>\n",
       "    <tr>\n",
       "      <th>0</th>\n",
       "      <td>2018</td>\n",
       "      <td>Q1</td>\n",
       "      <td>1</td>\n",
       "      <td>AZ</td>\n",
       "      <td>4.9</td>\n",
       "    </tr>\n",
       "    <tr>\n",
       "      <th>1</th>\n",
       "      <td>2018</td>\n",
       "      <td>Q1</td>\n",
       "      <td>1</td>\n",
       "      <td>CA</td>\n",
       "      <td>4.4</td>\n",
       "    </tr>\n",
       "    <tr>\n",
       "      <th>2</th>\n",
       "      <td>2018</td>\n",
       "      <td>Q1</td>\n",
       "      <td>1</td>\n",
       "      <td>CO</td>\n",
       "      <td>2.9</td>\n",
       "    </tr>\n",
       "    <tr>\n",
       "      <th>3</th>\n",
       "      <td>2018</td>\n",
       "      <td>Q1</td>\n",
       "      <td>1</td>\n",
       "      <td>DE</td>\n",
       "      <td>4.1</td>\n",
       "    </tr>\n",
       "    <tr>\n",
       "      <th>4</th>\n",
       "      <td>2018</td>\n",
       "      <td>Q1</td>\n",
       "      <td>1</td>\n",
       "      <td>DC</td>\n",
       "      <td>5.9</td>\n",
       "    </tr>\n",
       "  </tbody>\n",
       "</table>\n",
       "</div>"
      ],
      "text/plain": [
       "   year quarter  month state  unemployment_rate\n",
       "0  2018      Q1      1    AZ                4.9\n",
       "1  2018      Q1      1    CA                4.4\n",
       "2  2018      Q1      1    CO                2.9\n",
       "3  2018      Q1      1    DE                4.1\n",
       "4  2018      Q1      1    DC                5.9"
      ]
     },
     "execution_count": 8,
     "metadata": {},
     "output_type": "execute_result"
    }
   ],
   "source": [
    "# Unemployment Data\n",
    "unemployment = pd.read_csv('Unemployment.csv')\n",
    "unemployment.head()"
   ]
  },
  {
   "cell_type": "code",
   "execution_count": 17,
   "id": "1ca55781",
   "metadata": {},
   "outputs": [
    {
     "data": {
      "text/plain": [
       "year                 2018\n",
       "quarter                Q1\n",
       "month                   1\n",
       "state                  AZ\n",
       "unemployment_rate     4.9\n",
       "Name: 0, dtype: object"
      ]
     },
     "execution_count": 17,
     "metadata": {},
     "output_type": "execute_result"
    }
   ],
   "source": [
    "unemployment.iloc[0]"
   ]
  },
  {
   "cell_type": "markdown",
   "id": "6d583c4e",
   "metadata": {},
   "source": [
    "## Per-Region Analysis"
   ]
  },
  {
   "cell_type": "code",
   "execution_count": 51,
   "id": "30327be0",
   "metadata": {},
   "outputs": [
    {
     "name": "stdout",
     "output_type": "stream",
     "text": [
      "Region 'West': 50554 leases\n",
      "Region 'Midwest/Central': 23860 leases\n",
      "Region 'Northeast': 51255 leases\n",
      "Region 'South': 69016 leases\n"
     ]
    },
    {
     "data": {
      "text/plain": [
       "{'Midwest/Central', 'Northeast', 'South', 'West'}"
      ]
     },
     "execution_count": 51,
     "metadata": {},
     "output_type": "execute_result"
    }
   ],
   "source": [
    "regions = set(leases['region'].unique())\n",
    "\n",
    "regions_dfs = {}\n",
    "for region in regions:\n",
    "    region_df = leases[leases['region'] == region]\n",
    "    regions_dfs[region] = region_df \n",
    "    print(f\"Region '{region}': {len(region_df)} leases\")\n",
    "    \n",
    "regions"
   ]
  },
  {
   "cell_type": "markdown",
   "id": "e6d93166",
   "metadata": {},
   "source": [
    "### Midwest"
   ]
  },
  {
   "cell_type": "code",
   "execution_count": 49,
   "id": "1a1993c4",
   "metadata": {},
   "outputs": [
    {
     "data": {
      "text/plain": [
       "{'Chicago', 'Chicago Suburbs', 'Denver', 'Detroit'}"
      ]
     },
     "execution_count": 49,
     "metadata": {},
     "output_type": "execute_result"
    }
   ],
   "source": [
    "midwest = regions_dfs['Midwest/Central']\n",
    "midwest_markets= set(midwest['market'].unique())\n",
    "midwest_markets\n",
    "\n",
    "\n",
    "# Market Occupancy Markets\n",
    "# Chicago\n"
   ]
  },
  {
   "cell_type": "code",
   "execution_count": 55,
   "id": "9f1029f2",
   "metadata": {},
   "outputs": [],
   "source": [
    "# Price Markets\n",
    "# Chicago Suburbs, Denver-Boulder, Detroit, Downtown Chicago\n",
    "\n",
    "# rename to match leases dataset\n",
    "market_mapping = {\n",
    "    'Downtown Chicago': 'Chicago',\n",
    "    'Denver-Boulder': 'Denver'\n",
    "}\n",
    "price_and_availability['market'] = price_and_availability['market'].replace(market_mapping)"
   ]
  },
  {
   "cell_type": "markdown",
   "id": "e840de10",
   "metadata": {},
   "source": [
    "### Northeast"
   ]
  },
  {
   "cell_type": "code",
   "execution_count": 50,
   "id": "747e287d",
   "metadata": {},
   "outputs": [
    {
     "data": {
      "text/plain": [
       "{'Baltimore',\n",
       " 'Boston',\n",
       " 'Manhattan',\n",
       " 'Northern New Jersey',\n",
       " 'Northern Virginia',\n",
       " 'Philadelphia',\n",
       " 'Southern Maryland',\n",
       " 'Washington D.C.'}"
      ]
     },
     "execution_count": 50,
     "metadata": {},
     "output_type": "execute_result"
    }
   ],
   "source": [
    "northeast = regions_dfs['Northeast']\n",
    "northeast_markets = set(northeast['market'].unique())\n",
    "northeast_markets\n",
    "\n",
    "# Market Occupancy Markets\n",
    "# Manhattan, Philadelphia, Washington D.C.\n",
    "\n",
    "# Price Markets\n",
    "# Baltimore, Boston, Manhattan, Northern New Jersey, Northern Virginia, Philadelphia, Suburban Maryland, Washngton D.C."
   ]
  },
  {
   "cell_type": "markdown",
   "id": "570fbb72",
   "metadata": {},
   "source": [
    "### South "
   ]
  },
  {
   "cell_type": "code",
   "execution_count": 41,
   "id": "828d4d8f",
   "metadata": {},
   "outputs": [
    {
     "data": {
      "text/plain": [
       "{'Atlanta',\n",
       " 'Austin',\n",
       " 'Charlotte',\n",
       " 'Dallas/Ft Worth',\n",
       " 'Houston',\n",
       " 'Nashville',\n",
       " 'Raleigh/Durham',\n",
       " 'South Florida',\n",
       " 'Tampa'}"
      ]
     },
     "execution_count": 41,
     "metadata": {},
     "output_type": "execute_result"
    }
   ],
   "source": [
    "south = regions_dfs['South']\n",
    "south_markets= set(south['market'].dropna().unique())\n",
    "south_markets\n",
    "\n",
    "# Market Occupancy Markets\n",
    "# Austin, Dallas/Ft Worth, Houston\n",
    "\n",
    "# Price Markets\n",
    "# Atlanta, Austin, Charlotte, Dallas-Ft. Worth, Houston, Nashville, Raleigh-Durham, South Florida, Tampa"
   ]
  },
  {
   "cell_type": "markdown",
   "id": "5b538467",
   "metadata": {},
   "source": [
    "### West"
   ]
  },
  {
   "cell_type": "code",
   "execution_count": 42,
   "id": "56b9378f",
   "metadata": {},
   "outputs": [
    {
     "data": {
      "text/plain": [
       "{'Los Angeles',\n",
       " 'Orange County',\n",
       " 'Phoenix',\n",
       " 'Salt Lake City',\n",
       " 'San Diego',\n",
       " 'San Francisco',\n",
       " 'Seattle',\n",
       " 'South Bay/San Jose'}"
      ]
     },
     "execution_count": 42,
     "metadata": {},
     "output_type": "execute_result"
    }
   ],
   "source": [
    "west = regions_dfs['West']\n",
    "west_markets= set(west['market'].dropna().unique())\n",
    "west_markets\n",
    "\n",
    "# Market Occupancy Markets\n",
    "# Los Angeles, San Francisco, South Bay/San Jose\n",
    "\n",
    "# Price Markets\n",
    "# Los Angeles, Orange County (CA), Phoenix, Salt Lake City, San Diego, San Francisco, Seattle, South Bay"
   ]
  },
  {
   "cell_type": "code",
   "execution_count": null,
   "id": "7a40847b",
   "metadata": {},
   "outputs": [],
   "source": []
  }
 ],
 "metadata": {
  "kernelspec": {
   "display_name": "Python 3 (ipykernel)",
   "language": "python",
   "name": "python3"
  },
  "language_info": {
   "codemirror_mode": {
    "name": "ipython",
    "version": 3
   },
   "file_extension": ".py",
   "mimetype": "text/x-python",
   "name": "python",
   "nbconvert_exporter": "python",
   "pygments_lexer": "ipython3",
   "version": "3.11.5"
  }
 },
 "nbformat": 4,
 "nbformat_minor": 5
}
