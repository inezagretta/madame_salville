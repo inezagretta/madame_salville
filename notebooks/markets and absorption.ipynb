{
 "cells": [
  {
   "cell_type": "code",
   "execution_count": null,
   "id": "630ba58b",
   "metadata": {},
   "outputs": [],
   "source": [
    "import pandas as pd\n",
    "import matplotlib.pyplot as plt"
   ]
  },
  {
   "cell_type": "code",
   "execution_count": null,
   "id": "8ceb69a4",
   "metadata": {},
   "outputs": [],
   "source": [
    "absorption_rates = {\n",
    "    'Atlanta': (-0.022588977749568005, -0.00732961656528534),\n",
    "    'Austin': (-0.053831439593598505, -0.026366892164422204),\n",
    "    'Baltimore': (-0.014402099922755261, -0.005147754659864611), \n",
    "    'Boston': (-0.029969134164771902, -0.011081917032427216),\n",
    "    'Charlotte': (-0.029097258685895997, -0.034973901999187214),\n",
    "    'Chicago': (-0.028978654311836275, -0.03531692861556808),  \n",
    "    'Chicago Suburbs': (-0.009359460176861338, 0.0009917111992323018), \n",
    "    'Dallas/Ft Worth': (-0.009950265078867248, -0.0026829764313393584),\n",
    "    'Denver':  (-0.030744320256725036, -0.019115843962804146),  \n",
    "    'Detroit': (-0.014402099922755261, -0.005147754659864611), \n",
    "    'Houston': (-0.0033821995029679262, -0.0009973758041107166),\n",
    "    'Los Angeles': (-0.024518875716068075, -0.01301887242119987),\n",
    "    'Manhattan': (-0.02010481058626688, -0.03209074988074955),\n",
    "    'Nashville': (-0.027813898586050868, -0.02360324645464407),\n",
    "    'Northern New Jersey': (-0.004553724270000923, 0.010556213549418455),\n",
    "    'Northern Virginia': (-0.009088414839254471, 0.0010518660979513053),\n",
    "    'Orange County': (-0.009838022065392011, -0.007423543101770445),\n",
    "    'Philadelphia': (-0.01824711379288069, -0.004704105034526766),\n",
    "    'Phoenix': (-0.0246509729805061, 0.0005434075531365124),\n",
    "    'Raleigh/Durham': (-0.03249189391395942, -0.0035755733395049882),\n",
    "    'Salt Lake City': (-0.042753829685275434, -0.02923822771966973),\n",
    "    'San Diego': (-0.018787468581848914, -0.0006801506864007474),\n",
    "    'San Francisco': (-0.07203686728867384, -0.07698653830148533),\n",
    "    'Seattle': (-0.04447649820603075, -0.025559230697896996),\n",
    "    'South Bay/San Jose': (-0.037018952994871526, -0.026381363658888376),\n",
    "    'South Florida': (-0.007124659865635555, 0.002390870201891718),\n",
    "    'Maryland': (-0.008100961117428517, 0.0011767018414884812),\n",
    "    'Tampa': (-0.028027310449950927, -0.0028264714609103556),\n",
    "    'Washington DC': (-0.021611869757852228, -0.017655357434349584),\n",
    "}\n",
    "\n",
    "len(absorption_rates)"
   ]
  },
  {
   "cell_type": "code",
   "execution_count": null,
   "id": "f52fd7f3",
   "metadata": {},
   "outputs": [],
   "source": [
    "# data\n",
    "leases = pd.read_csv('Leases.csv')\n",
    "prices = pd.read_csv('Price and Availability Data.csv')"
   ]
  },
  {
   "cell_type": "code",
   "execution_count": null,
   "id": "969c35c2",
   "metadata": {},
   "outputs": [],
   "source": [
    "# edit columns\n",
    "market_mapping = {\n",
    "    'Downtown Chicago': 'Chicago',\n",
    "    'Denver-Boulder': 'Denver',\n",
    "    'Suburban Maryland': 'Maryland',\n",
    "    'Raleigh-Durham': 'Raleigh/Durham',\n",
    "    'Dallas-Ft. Worth': 'Dallas/Ft Worth',\n",
    "    'Orange County (CA)': 'Orange County',\n",
    "    'South Bay': 'South Bay/San Jose',\n",
    "    'Washington DC': 'Washington D.C.'\n",
    "}\n",
    "prices['market'] = prices['market'].replace(market_mapping)\n",
    "\n",
    "leases['date'] = leases['year'].astype(str) + '_' + leases['quarter']\n",
    "prices['date'] = prices['year'].astype(str) + '_' + prices['quarter']"
   ]
  },
  {
   "cell_type": "code",
   "execution_count": null,
   "id": "54730d78",
   "metadata": {},
   "outputs": [],
   "source": [
    "# input\n",
    "REGION = 'Midwest/Central'\n",
    "MARKET = 'Washington DC'"
   ]
  },
  {
   "cell_type": "code",
   "execution_count": null,
   "id": "c7a3e491",
   "metadata": {},
   "outputs": [],
   "source": [
    "print(f\"Collect data for the {MARKET} market in the {REGION} region\")\n",
    "region_data, market_data, market_data_from_price_dataset = break_up_data(REGION, MARKET)\n",
    "dataset = market_data_from_price_dataset"
   ]
  },
  {
   "cell_type": "code",
   "execution_count": null,
   "id": "590b66eb",
   "metadata": {},
   "outputs": [],
   "source": [
    "dataset, removed = drop_na_rows('direct_available_space', dataset)\n",
    "print(f\"Dropped {removed} empty rows\")"
   ]
  },
  {
   "cell_type": "code",
   "execution_count": null,
   "id": "b480a85d",
   "metadata": {},
   "outputs": [],
   "source": [
    "print(f'Split by quality')\n",
    "A_dataset, O_dataset = split_by_quality(dataset)"
   ]
  },
  {
   "cell_type": "code",
   "execution_count": null,
   "id": "fadfa769",
   "metadata": {},
   "outputs": [],
   "source": [
    "print('Add absorption rate column')\n",
    "A_dataset = find_absorption_rates(A_dataset)\n",
    "O_dataset = find_absorption_rates(O_dataset)"
   ]
  },
  {
   "cell_type": "code",
   "execution_count": null,
   "id": "638c29c5",
   "metadata": {},
   "outputs": [],
   "source": [
    "print('Mean absorption rates')\n",
    "A_mean_absorption = find_mean_absorption(A_dataset)\n",
    "O_mean_absorption = find_mean_absorption(O_dataset)"
   ]
  },
  {
   "cell_type": "code",
   "execution_count": null,
   "id": "c3e05909",
   "metadata": {},
   "outputs": [],
   "source": [
    "A_mean_absorption, O_mean_absorption"
   ]
  },
  {
   "cell_type": "code",
   "execution_count": null,
   "id": "c8c010ab",
   "metadata": {},
   "outputs": [],
   "source": [
    "print('Plot absorption rates')\n",
    "plot_absorption_rates(A_dataset, 'A', MARKET)\n",
    "plot_absorption_rates(O_dataset, 'O', MARKET)"
   ]
  },
  {
   "cell_type": "code",
   "execution_count": null,
   "id": "5e945dd6",
   "metadata": {},
   "outputs": [],
   "source": [
    "print('Plot availability rates')\n",
    "plot_availability_proportion(A_dataset, 'A', MARKET)\n",
    "plot_availability_proportion(O_dataset, 'O', MARKET)"
   ]
  },
  {
   "cell_type": "code",
   "execution_count": null,
   "id": "78d3d65a",
   "metadata": {},
   "outputs": [],
   "source": [
    "def break_up_data(REGION, MARKET):\n",
    "    region   = leases[leases['region'] == REGION]\n",
    "    market   = region[region['market'] == MARKET]\n",
    "    market_p = prices[prices['market'] == MARKET]\n",
    "    \n",
    "    return (region, market, market_p)"
   ]
  },
  {
   "cell_type": "code",
   "execution_count": null,
   "id": "637f6b23",
   "metadata": {},
   "outputs": [],
   "source": [
    "def drop_na_rows(column_name, dataset):\n",
    "    original_count = len(dataset)\n",
    "    dataset        = dataset.dropna(subset=[column_name])\n",
    "    new_count =  len(dataset)\n",
    "\n",
    "    removed_count = original_count - new_count\n",
    "    return (dataset, removed_count)"
   ]
  },
  {
   "cell_type": "code",
   "execution_count": null,
   "id": "0d604515",
   "metadata": {},
   "outputs": [],
   "source": [
    "def split_by_quality(dataset):\n",
    "    dataset_A = dataset[dataset['internal_class'] == 'A']\n",
    "    dataset_O = dataset[dataset['internal_class'] == 'O']\n",
    "    \n",
    "    return (dataset_A, dataset_O)"
   ]
  },
  {
   "cell_type": "code",
   "execution_count": null,
   "id": "766d6a43",
   "metadata": {},
   "outputs": [],
   "source": [
    "def find_absorption_rates(dataset):\n",
    "    \n",
    "    dataset['absorption_rate'] = 0.0\n",
    "\n",
    "    for i in range(1, len(dataset)):\n",
    "        prev_avail = dataset['availability_proportion'].iloc[i-1]\n",
    "        curr_avail = dataset['availability_proportion'].iloc[i]\n",
    "\n",
    "        # Positive values mean availability decreased (space was absorbed)\n",
    "        # Negative values mean availability increased\n",
    "        if prev_avail != 0:  # Avoid division by zero\n",
    "            dataset.loc[dataset.index[i], 'absorption_rate'] = (prev_avail - curr_avail) / prev_avail\n",
    "            \n",
    "    return dataset"
   ]
  },
  {
   "cell_type": "code",
   "execution_count": null,
   "id": "b154416c",
   "metadata": {},
   "outputs": [],
   "source": [
    "def find_mean_absorption(dataset):\n",
    "    return dataset['absorption_rate'].mean()"
   ]
  },
  {
   "cell_type": "code",
   "execution_count": null,
   "id": "ca6735f7",
   "metadata": {},
   "outputs": [],
   "source": [
    "def plot_absorption_rates(dataset, quality, market):\n",
    "    plt.figure(figsize=(10, 6))\n",
    "    plt.plot(dataset['date'], dataset['absorption_rate'], marker='o', color='green')\n",
    "    plt.axhline(y=0, color='r', linestyle='-', alpha=0.3)  # Add a line at y=0 for reference\n",
    "    plt.xlabel('Quarter')\n",
    "    plt.ylabel('Absorption Rate')\n",
    "    plt.title(f'Quarterly Absorption Rate for {quality}-leases in {market}')\n",
    "    plt.xticks(rotation=45)\n",
    "    plt.tight_layout()\n",
    "    plt.show()"
   ]
  },
  {
   "cell_type": "code",
   "execution_count": null,
   "id": "03e91d60",
   "metadata": {},
   "outputs": [],
   "source": [
    "def plot_availability_proportion(dataset, quality, market):\n",
    "    plt.figure(figsize=(10, 6))\n",
    "    plt.plot(dataset['date'], dataset['availability_proportion'], marker='o')\n",
    "    plt.xlabel('Quarter')\n",
    "    plt.ylabel('Availability Proportion')\n",
    "    plt.title(f'Availability Proportion over Time for {quality}-leases in {market}')\n",
    "    plt.xticks(rotation=45)\n",
    "    plt.tight_layout()\n",
    "    plt.show()"
   ]
  }
 ],
 "metadata": {
  "kernelspec": {
   "display_name": "Python 3 (ipykernel)",
   "language": "python",
   "name": "python3"
  },
  "language_info": {
   "codemirror_mode": {
    "name": "ipython",
    "version": 3
   },
   "file_extension": ".py",
   "mimetype": "text/x-python",
   "name": "python",
   "nbconvert_exporter": "python",
   "pygments_lexer": "ipython3",
   "version": "3.11.5"
  }
 },
 "nbformat": 4,
 "nbformat_minor": 5
}
