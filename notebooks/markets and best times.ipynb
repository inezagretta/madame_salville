{
 "cells": [
  {
   "cell_type": "code",
   "execution_count": 1,
   "id": "4ce0107e",
   "metadata": {},
   "outputs": [],
   "source": [
    "import pandas as pd\n",
    "import matplotlib.pyplot as plt\n",
    "import numpy as np"
   ]
  },
  {
   "cell_type": "code",
   "execution_count": 2,
   "id": "d8ff7df6",
   "metadata": {},
   "outputs": [],
   "source": [
    "# data\n",
    "leases = pd.read_csv('Leases.csv')\n",
    "prices = pd.read_csv('Price and Availability Data.csv')\n",
    "markets = ['Atlanta', 'Austin', 'Baltimore', 'Boston', 'Charlotte', 'Chicago', 'Chicago Suburbs', 'Dallas/Ft Worth', 'Denver', 'Detroit', 'Houston', 'Los Angeles', 'Manhattan', 'Nashville', 'Northern New Jersey', 'Northern Virginia', 'Orange County', 'Philadelphia', 'Phoenix', 'Raleigh/Durham', 'Salt Lake City', 'San Diego', 'San Francisco', 'Seattle', 'South Bay/San Jose', 'South Florida', 'Maryland', 'Tampa', 'Washington D.C.']"
   ]
  },
  {
   "cell_type": "code",
   "execution_count": 3,
   "id": "9008fcb2",
   "metadata": {},
   "outputs": [],
   "source": [
    "# edit columns\n",
    "market_mapping = {\n",
    "    'Downtown Chicago': 'Chicago',\n",
    "    'Denver-Boulder': 'Denver',\n",
    "    'Suburban Maryland': 'Maryland',\n",
    "    'Raleigh-Durham': 'Raleigh/Durham',\n",
    "    'Dallas-Ft. Worth': 'Dallas/Ft Worth',\n",
    "    'Orange County (CA)': 'Orange County',\n",
    "    'South Bay': 'South Bay/San Jose',\n",
    "    'Washington DC': 'Washington D.C.'\n",
    "}\n",
    "prices['market'] = prices['market'].replace(market_mapping)"
   ]
  },
  {
   "cell_type": "code",
   "execution_count": 6,
   "id": "d7d4233c",
   "metadata": {},
   "outputs": [],
   "source": [
    "best_quarters_by_market = {}\n",
    "for market in markets:\n",
    "    best_quarter = find_best_quarter(market)\n",
    "    best_quarters_by_market[market] = best_quarter"
   ]
  },
  {
   "cell_type": "code",
   "execution_count": 7,
   "id": "9b52afc5",
   "metadata": {},
   "outputs": [
    {
     "data": {
      "text/plain": [
       "{'Atlanta': 'Q1',\n",
       " 'Austin': 'Q3',\n",
       " 'Baltimore': 'Q2',\n",
       " 'Boston': 'Q1',\n",
       " 'Charlotte': 'Q1',\n",
       " 'Chicago': 'Q1',\n",
       " 'Chicago Suburbs': 'Q3',\n",
       " 'Dallas/Ft Worth': 'Q3',\n",
       " 'Denver': 'Q1',\n",
       " 'Detroit': 'Q3',\n",
       " 'Houston': 'Q1',\n",
       " 'Los Angeles': 'Q1',\n",
       " 'Manhattan': 'Q3',\n",
       " 'Nashville': 'Q1',\n",
       " 'Northern New Jersey': 'Q1',\n",
       " 'Northern Virginia': 'Q1',\n",
       " 'Orange County': 'Q1',\n",
       " 'Philadelphia': 'Q1',\n",
       " 'Phoenix': 'Q1',\n",
       " 'Raleigh/Durham': 'Q1',\n",
       " 'Salt Lake City': 'Q1',\n",
       " 'San Diego': 'Q3',\n",
       " 'San Francisco': 'Q4',\n",
       " 'Seattle': 'Q3',\n",
       " 'South Bay/San Jose': 'Q1',\n",
       " 'South Florida': 'Q1',\n",
       " 'Maryland': 'Q1',\n",
       " 'Tampa': 'Q1',\n",
       " 'Washington D.C.': 'Q1'}"
      ]
     },
     "execution_count": 7,
     "metadata": {},
     "output_type": "execute_result"
    }
   ],
   "source": [
    "best_quarters_by_market"
   ]
  },
  {
   "cell_type": "code",
   "execution_count": 5,
   "id": "b4879842",
   "metadata": {},
   "outputs": [],
   "source": [
    "def find_best_quarter(market):\n",
    "    market_data = prices[prices['market'] == market].copy()\n",
    "\n",
    "    columns_to_keep = ['market', 'year', 'quarter', 'internal_class_rent', 'availability_proportion']\n",
    "    market_data = market_data[columns_to_keep].copy()\n",
    "    \n",
    "    market_data = market_data.groupby(['year', 'quarter']).agg({\n",
    "        'internal_class_rent': 'sum',\n",
    "        'availability_proportion': 'mean'\n",
    "    }).reset_index()\n",
    "    \n",
    "    normalized_rent = normalize_lower_better(market_data['internal_class_rent'])\n",
    "    normalized_availability = normalize_higher_better(market_data['availability_proportion']) \n",
    "    \n",
    "    market_data['score'] = normalized_rent * 0.7 + normalized_availability * 0.3\n",
    "    market_data['score'] = market_data['score'].round(4)\n",
    "    \n",
    "    quarter_scores = market_data.groupby('quarter')['score'].mean().reset_index()\n",
    "    best_quarter = quarter_scores.loc[quarter_scores['score'].idxmax()]\n",
    "    \n",
    "    return best_quarter[0]"
   ]
  },
  {
   "cell_type": "code",
   "execution_count": 4,
   "id": "42eca2df",
   "metadata": {},
   "outputs": [],
   "source": [
    "# Function to normalize values (where lower is better)\n",
    "def normalize_lower_better(series):\n",
    "    min_val = series.min()\n",
    "    max_val = series.max()\n",
    "    range_val = max_val - min_val\n",
    "    if range_val == 0:\n",
    "        return pd.Series(0.5, index=series.index)  # If all values are the same\n",
    "    return 1 - ((series - min_val) / range_val)  # Invert so lower values get higher scores\n",
    "\n",
    "# Function to normalize values (where higher is better)\n",
    "def normalize_higher_better(series):\n",
    "    min_val = series.min()\n",
    "    max_val = series.max()\n",
    "    range_val = max_val - min_val\n",
    "    if range_val == 0:\n",
    "        return pd.Series(0.5, index=series.index)  # If all values are the same\n",
    "    return (series - min_val) / range_val  # Higher values get higher scores"
   ]
  },
  {
   "cell_type": "code",
   "execution_count": null,
   "id": "e82a1abb",
   "metadata": {},
   "outputs": [],
   "source": []
  }
 ],
 "metadata": {
  "kernelspec": {
   "display_name": "Python 3 (ipykernel)",
   "language": "python",
   "name": "python3"
  },
  "language_info": {
   "codemirror_mode": {
    "name": "ipython",
    "version": 3
   },
   "file_extension": ".py",
   "mimetype": "text/x-python",
   "name": "python",
   "nbconvert_exporter": "python",
   "pygments_lexer": "ipython3",
   "version": "3.11.5"
  }
 },
 "nbformat": 4,
 "nbformat_minor": 5
}
