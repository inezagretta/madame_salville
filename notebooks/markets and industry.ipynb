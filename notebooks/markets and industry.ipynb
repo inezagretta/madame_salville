{
 "cells": [
  {
   "cell_type": "code",
   "execution_count": 1,
   "id": "9779f246",
   "metadata": {},
   "outputs": [],
   "source": [
    "import pandas as pd\n",
    "import matplotlib.pyplot as plt"
   ]
  },
  {
   "cell_type": "code",
   "execution_count": 2,
   "id": "de595d7f",
   "metadata": {},
   "outputs": [],
   "source": [
    "# data\n",
    "leases = pd.read_csv('Leases.csv')\n",
    "prices = pd.read_csv('Price and Availability Data.csv')"
   ]
  },
  {
   "cell_type": "code",
   "execution_count": 3,
   "id": "708d63ce",
   "metadata": {},
   "outputs": [],
   "source": [
    "# edit columns\n",
    "market_mapping = {\n",
    "    'Downtown Chicago': 'Chicago',\n",
    "    'Denver-Boulder': 'Denver',\n",
    "    'Suburban Maryland': 'Maryland',\n",
    "    'Raleigh-Durham': 'Raleigh/Durham',\n",
    "    'Dallas-Ft. Worth': 'Dallas/Ft Worth',\n",
    "    'Orange County (CA)': 'Orange County',\n",
    "    'South Bay': 'South Bay/San Jose',\n",
    "    'Washington DC': 'Washington D.C.'\n",
    "}\n",
    "prices['market'] = prices['market'].replace(market_mapping)"
   ]
  },
  {
   "cell_type": "code",
   "execution_count": 4,
   "id": "182de975",
   "metadata": {},
   "outputs": [],
   "source": [
    "target_industries = [\"Financial Services and Insurance\", \n",
    "                     \"Technology, Advertising, Media, and Information\", \n",
    "                     \"Legal Services\"]\n",
    "\n",
    "# Create separate datasets for each industry\n",
    "industry_datasets = {}\n",
    "for industry in target_industries:\n",
    "    industry_datasets[industry] = leases[leases['internal_industry'] == industry]\n",
    "\n",
    "# For each industry, count leases by market and rank markets\n",
    "market_rankings = {}\n",
    "for industry, industry_df in industry_datasets.items():\n",
    "    # Count leases by market\n",
    "    market_counts = industry_df['market'].value_counts()\n",
    "    \n",
    "    # Convert to a list of tuples (market, count) sorted by count in descending order\n",
    "    ranked_markets = [(market, count) for market, count in market_counts.items()]\n",
    "    ranked_markets.sort(key=lambda x: x[1], reverse=True)\n",
    "    \n",
    "    # Store the ranked markets for this industry\n",
    "    market_rankings[industry] = ranked_markets"
   ]
  },
  {
   "cell_type": "code",
   "execution_count": 5,
   "id": "66f77d70",
   "metadata": {},
   "outputs": [
    {
     "data": {
      "text/plain": [
       "{'Financial Services and Insurance': [('Manhattan', 1400),\n",
       "  ('Atlanta', 199),\n",
       "  ('Dallas/Ft Worth', 190),\n",
       "  ('Chicago', 188),\n",
       "  ('South Florida', 184),\n",
       "  ('Northern New Jersey', 168),\n",
       "  ('Philadelphia', 147),\n",
       "  ('Los Angeles', 133),\n",
       "  ('Northern Virginia', 126),\n",
       "  ('Phoenix', 115),\n",
       "  ('Charlotte', 114),\n",
       "  ('Houston', 111),\n",
       "  ('Denver', 105),\n",
       "  ('Boston', 102),\n",
       "  ('Orange County', 99),\n",
       "  ('Tampa', 99),\n",
       "  ('Chicago Suburbs', 94),\n",
       "  ('San Francisco', 81),\n",
       "  ('Washington D.C.', 79),\n",
       "  ('Southern Maryland', 76),\n",
       "  ('San Diego', 72),\n",
       "  ('Seattle', 69),\n",
       "  ('Austin', 66),\n",
       "  ('Baltimore', 60),\n",
       "  ('Detroit', 58),\n",
       "  ('Raleigh/Durham', 38),\n",
       "  ('South Bay/San Jose', 33),\n",
       "  ('Nashville', 24),\n",
       "  ('Salt Lake City', 23)],\n",
       " 'Technology, Advertising, Media, and Information': [('Manhattan', 868),\n",
       "  ('Northern Virginia', 311),\n",
       "  ('Los Angeles', 246),\n",
       "  ('South Bay/San Jose', 240),\n",
       "  ('San Francisco', 191),\n",
       "  ('Seattle', 149),\n",
       "  ('Atlanta', 147),\n",
       "  ('Chicago', 143),\n",
       "  ('Austin', 136),\n",
       "  ('Washington D.C.', 129),\n",
       "  ('Boston', 129),\n",
       "  ('Denver', 112),\n",
       "  ('Northern New Jersey', 111),\n",
       "  ('Dallas/Ft Worth', 103),\n",
       "  ('Philadelphia', 85),\n",
       "  ('San Diego', 81),\n",
       "  ('Raleigh/Durham', 80),\n",
       "  ('Orange County', 73),\n",
       "  ('South Florida', 72),\n",
       "  ('Houston', 64),\n",
       "  ('Phoenix', 62),\n",
       "  ('Tampa', 52),\n",
       "  ('Southern Maryland', 47),\n",
       "  ('Baltimore', 45),\n",
       "  ('Charlotte', 42),\n",
       "  ('Detroit', 35),\n",
       "  ('Chicago Suburbs', 35),\n",
       "  ('Salt Lake City', 30),\n",
       "  ('Nashville', 17)],\n",
       " 'Legal Services': [('Manhattan', 393),\n",
       "  ('Washington D.C.', 204),\n",
       "  ('Chicago', 148),\n",
       "  ('Los Angeles', 145),\n",
       "  ('Houston', 113),\n",
       "  ('Philadelphia', 111),\n",
       "  ('South Florida', 96),\n",
       "  ('Dallas/Ft Worth', 82),\n",
       "  ('Denver', 71),\n",
       "  ('Atlanta', 70),\n",
       "  ('Northern Virginia', 67),\n",
       "  ('Northern New Jersey', 65),\n",
       "  ('Tampa', 65),\n",
       "  ('San Francisco', 59),\n",
       "  ('Orange County', 45),\n",
       "  ('San Diego', 41),\n",
       "  ('Boston', 40),\n",
       "  ('Austin', 38),\n",
       "  ('Seattle', 38),\n",
       "  ('Detroit', 31),\n",
       "  ('Charlotte', 29),\n",
       "  ('South Bay/San Jose', 29),\n",
       "  ('Raleigh/Durham', 28),\n",
       "  ('Southern Maryland', 27),\n",
       "  ('Baltimore', 24),\n",
       "  ('Phoenix', 22),\n",
       "  ('Nashville', 10),\n",
       "  ('Salt Lake City', 10),\n",
       "  ('Chicago Suburbs', 8)]}"
      ]
     },
     "execution_count": 5,
     "metadata": {},
     "output_type": "execute_result"
    }
   ],
   "source": [
    "market_rankings"
   ]
  },
  {
   "cell_type": "code",
   "execution_count": null,
   "id": "681007e0",
   "metadata": {},
   "outputs": [],
   "source": [
    "industries = set(leases['internal_industry'].unique())"
   ]
  },
  {
   "cell_type": "code",
   "execution_count": null,
   "id": "6b8f1097",
   "metadata": {},
   "outputs": [],
   "source": [
    "industries"
   ]
  },
  {
   "cell_type": "code",
   "execution_count": null,
   "id": "cfa38c01",
   "metadata": {},
   "outputs": [],
   "source": [
    "industry_counts = leases['internal_industry'].value_counts()\n",
    "industry_counts"
   ]
  },
  {
   "cell_type": "code",
   "execution_count": null,
   "id": "15a41aac",
   "metadata": {},
   "outputs": [],
   "source": [
    "markets = ['Atlanta', 'Austin', 'Baltimore', 'Boston', 'Charlotte', 'Chicago', 'Chicago Suburbs', 'Dallas/Ft Worth', 'Denver', 'Detroit', 'Houston', 'Los Angeles', 'Manhattan', 'Nashville', 'Northern New Jersey', 'Northern Virginia', 'Orange County', 'Philadelphia', 'Phoenix', 'Raleigh/Durham', 'Salt Lake City', 'San Diego', 'San Francisco', 'Seattle', 'South Bay/San Jose', 'South Florida', 'Maryland', 'Tampa', 'Washington D.C.']\n",
    "\n",
    "\n",
    "target_industries = [\"Financial Services and Insurance\", \n",
    "                     \"Technology, Advertising, Media, and Information\", \n",
    "                     \"Legal Services\"]\n",
    "\n",
    "industry_counts_by_market = {}\n",
    "for market in markets:\n",
    "    market_df = leases[leases['market'] == market]\n",
    "    \n",
    "    # Filter for only the specific industries you want\n",
    "    filtered_df = market_df[market_df['internal_industry'].isin(target_industries)]\n",
    "    \n",
    "    # Get counts for each of your target industries\n",
    "    counts = filtered_df['internal_industry'].value_counts()\n",
    "    \n",
    "    # Ensure all target industries appear in the results, even if count is 0\n",
    "    for industry in target_industries:\n",
    "        if industry not in counts:\n",
    "            counts[industry] = 0\n",
    "    \n",
    "    # Keep only the target industries\n",
    "    counts = counts[target_industries]\n",
    "    \n",
    "    # Store the counts for this market\n",
    "    industry_counts_by_market[market] = counts"
   ]
  },
  {
   "cell_type": "code",
   "execution_count": null,
   "id": "a13c1e7b",
   "metadata": {},
   "outputs": [],
   "source": [
    "industry_counts_by_market "
   ]
  },
  {
   "cell_type": "code",
   "execution_count": null,
   "id": "2e7a8d9a",
   "metadata": {},
   "outputs": [],
   "source": []
  }
 ],
 "metadata": {
  "kernelspec": {
   "display_name": "Python 3 (ipykernel)",
   "language": "python",
   "name": "python3"
  },
  "language_info": {
   "codemirror_mode": {
    "name": "ipython",
    "version": 3
   },
   "file_extension": ".py",
   "mimetype": "text/x-python",
   "name": "python",
   "nbconvert_exporter": "python",
   "pygments_lexer": "ipython3",
   "version": "3.11.5"
  }
 },
 "nbformat": 4,
 "nbformat_minor": 5
}
