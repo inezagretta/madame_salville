{
 "cells": [
  {
   "cell_type": "code",
   "execution_count": 6,
   "id": "eed6bbcf",
   "metadata": {},
   "outputs": [],
   "source": [
    "import pandas as pd"
   ]
  },
  {
   "cell_type": "code",
   "execution_count": 5,
   "id": "0236c92b",
   "metadata": {},
   "outputs": [],
   "source": [
    "markets = [\n",
    "    \"Austin\",\n",
    "    \"Chicago\",\n",
    "    \"Dallas/Ft Worth\",\n",
    "    \"Houston\",\n",
    "    \"Los Angeles\",\n",
    "    \"Manhattan\", \n",
    "    \"Philadelphia\",\n",
    "    \"San Francisco\",\n",
    "    \"South Bay/San Jose\",\n",
    "    \"Washington D.C.\",\n",
    "]"
   ]
  },
  {
   "cell_type": "code",
   "execution_count": 4,
   "id": "45a05f2d",
   "metadata": {},
   "outputs": [
    {
     "data": {
      "text/html": [
       "<div>\n",
       "<style scoped>\n",
       "    .dataframe tbody tr th:only-of-type {\n",
       "        vertical-align: middle;\n",
       "    }\n",
       "\n",
       "    .dataframe tbody tr th {\n",
       "        vertical-align: top;\n",
       "    }\n",
       "\n",
       "    .dataframe thead th {\n",
       "        text-align: right;\n",
       "    }\n",
       "</style>\n",
       "<table border=\"1\" class=\"dataframe\">\n",
       "  <thead>\n",
       "    <tr style=\"text-align: right;\">\n",
       "      <th></th>\n",
       "      <th>year</th>\n",
       "      <th>quarter</th>\n",
       "      <th>market</th>\n",
       "      <th>ending_occupancy_proportion</th>\n",
       "      <th>starting_occupancy_proportion</th>\n",
       "      <th>avg_occupancy_proportion</th>\n",
       "    </tr>\n",
       "  </thead>\n",
       "  <tbody>\n",
       "    <tr>\n",
       "      <th>0</th>\n",
       "      <td>2020</td>\n",
       "      <td>Q1</td>\n",
       "      <td>Washington D.C.</td>\n",
       "      <td>0.19</td>\n",
       "      <td>0.98</td>\n",
       "      <td>0.785714</td>\n",
       "    </tr>\n",
       "    <tr>\n",
       "      <th>1</th>\n",
       "      <td>2020</td>\n",
       "      <td>Q1</td>\n",
       "      <td>Manhattan</td>\n",
       "      <td>0.08</td>\n",
       "      <td>0.98</td>\n",
       "      <td>0.732857</td>\n",
       "    </tr>\n",
       "    <tr>\n",
       "      <th>2</th>\n",
       "      <td>2020</td>\n",
       "      <td>Q1</td>\n",
       "      <td>Chicago</td>\n",
       "      <td>0.14</td>\n",
       "      <td>0.99</td>\n",
       "      <td>0.788571</td>\n",
       "    </tr>\n",
       "    <tr>\n",
       "      <th>3</th>\n",
       "      <td>2020</td>\n",
       "      <td>Q1</td>\n",
       "      <td>Houston</td>\n",
       "      <td>0.33</td>\n",
       "      <td>0.99</td>\n",
       "      <td>0.835714</td>\n",
       "    </tr>\n",
       "    <tr>\n",
       "      <th>4</th>\n",
       "      <td>2020</td>\n",
       "      <td>Q1</td>\n",
       "      <td>Philadelphia</td>\n",
       "      <td>0.20</td>\n",
       "      <td>0.99</td>\n",
       "      <td>0.817143</td>\n",
       "    </tr>\n",
       "  </tbody>\n",
       "</table>\n",
       "</div>"
      ],
      "text/plain": [
       "   year quarter           market  ending_occupancy_proportion  \\\n",
       "0  2020      Q1  Washington D.C.                         0.19   \n",
       "1  2020      Q1        Manhattan                         0.08   \n",
       "2  2020      Q1          Chicago                         0.14   \n",
       "3  2020      Q1          Houston                         0.33   \n",
       "4  2020      Q1     Philadelphia                         0.20   \n",
       "\n",
       "   starting_occupancy_proportion  avg_occupancy_proportion  \n",
       "0                           0.98                  0.785714  \n",
       "1                           0.98                  0.732857  \n",
       "2                           0.99                  0.788571  \n",
       "3                           0.99                  0.835714  \n",
       "4                           0.99                  0.817143  "
      ]
     },
     "execution_count": 4,
     "metadata": {},
     "output_type": "execute_result"
    }
   ],
   "source": [
    "market_occupancy = pd.read_csv('Major Market Occupancy Data-revised.csv')\n",
    "market_occupancy.head()"
   ]
  },
  {
   "cell_type": "code",
   "execution_count": 7,
   "id": "4fe007a3",
   "metadata": {},
   "outputs": [
    {
     "name": "stdout",
     "output_type": "stream",
     "text": [
      "market\n",
      "Austin                0.517043\n",
      "Houston               0.503773\n",
      "Dallas/Ft Worth       0.485768\n",
      "Los Angeles           0.398406\n",
      "Chicago               0.388947\n",
      "Washington D.C.       0.369118\n",
      "Philadelphia          0.365611\n",
      "Manhattan             0.349343\n",
      "South Bay/San Jose    0.318399\n",
      "San Francisco         0.317613\n",
      "Name: avg_occupancy_proportion, dtype: float64\n"
     ]
    }
   ],
   "source": [
    "# Group by market and calculate the mean of avg_occupancy_proportion\n",
    "market_avg_occupancy = market_occupancy.groupby('market')['avg_occupancy_proportion'].mean()\n",
    "\n",
    "# Sort from highest to lowest average occupancy (optional)\n",
    "market_avg_occupancy = market_avg_occupancy.sort_values(ascending=False)\n",
    "\n",
    "# Display the results\n",
    "print(market_avg_occupancy)"
   ]
  },
  {
   "cell_type": "code",
   "execution_count": 9,
   "id": "7cc4f3b2",
   "metadata": {},
   "outputs": [
    {
     "data": {
      "text/plain": [
       "{'Austin': 0.5170427840526316,\n",
       " 'Houston': 0.5037726654210527,\n",
       " 'Dallas/Ft Worth': 0.4857677595789474,\n",
       " 'Los Angeles': 0.3984061114736842,\n",
       " 'Chicago': 0.3889468357368421,\n",
       " 'Washington D.C.': 0.3691180633157895,\n",
       " 'Philadelphia': 0.36561050910526316,\n",
       " 'Manhattan': 0.34934319599999997,\n",
       " 'South Bay/San Jose': 0.31839943989473685,\n",
       " 'San Francisco': 0.31761341615789473}"
      ]
     },
     "execution_count": 9,
     "metadata": {},
     "output_type": "execute_result"
    }
   ],
   "source": [
    "market_avg_occupancy.to_dict()"
   ]
  },
  {
   "cell_type": "code",
   "execution_count": null,
   "id": "0924adb4",
   "metadata": {},
   "outputs": [],
   "source": []
  }
 ],
 "metadata": {
  "kernelspec": {
   "display_name": "Python 3 (ipykernel)",
   "language": "python",
   "name": "python3"
  },
  "language_info": {
   "codemirror_mode": {
    "name": "ipython",
    "version": 3
   },
   "file_extension": ".py",
   "mimetype": "text/x-python",
   "name": "python",
   "nbconvert_exporter": "python",
   "pygments_lexer": "ipython3",
   "version": "3.11.5"
  }
 },
 "nbformat": 4,
 "nbformat_minor": 5
}
