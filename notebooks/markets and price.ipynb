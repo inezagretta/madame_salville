{
 "cells": [
  {
   "cell_type": "code",
   "execution_count": null,
   "id": "2fddc275",
   "metadata": {},
   "outputs": [],
   "source": [
    "import pandas as pd\n",
    "import matplotlib.pyplot as plt"
   ]
  },
  {
   "cell_type": "code",
   "execution_count": null,
   "id": "fb5e7397",
   "metadata": {},
   "outputs": [],
   "source": [
    "# data\n",
    "leases = pd.read_csv('Leases.csv')\n",
    "prices = pd.read_csv('Price and Availability Data.csv')"
   ]
  },
  {
   "cell_type": "code",
   "execution_count": null,
   "id": "2b674771",
   "metadata": {},
   "outputs": [],
   "source": [
    "# edit columns\n",
    "market_mapping = {\n",
    "    'Downtown Chicago': 'Chicago',\n",
    "    'Denver-Boulder': 'Denver',\n",
    "    'Suburban Maryland': 'Maryland',\n",
    "    'Raleigh-Durham': 'Raleigh/Durham',\n",
    "    'Dallas-Ft. Worth': 'Dallas/Ft Worth',\n",
    "    'Orange County (CA)': 'Orange County',\n",
    "    'South Bay': 'South Bay/San Jose',\n",
    "    'Washington DC': 'Washington D.C.'\n",
    "}\n",
    "prices['market'] = prices['market'].replace(market_mapping)\n",
    "\n",
    "leases['date'] = leases['year'].astype(str) + '_' + leases['quarter']\n",
    "prices['date'] = prices['year'].astype(str) + '_' + prices['quarter']"
   ]
  },
  {
   "cell_type": "code",
   "execution_count": null,
   "id": "689dc701",
   "metadata": {},
   "outputs": [],
   "source": [
    "REGION = 'Midwest/Central'\n",
    "MARKET = 'Denver'\n",
    "\n",
    "rent_forecasts = {}\n",
    "markets = ['Atlanta', 'Austin', 'Baltimore', 'Boston', 'Charlotte', 'Chicago', 'Chicago Suburbs', 'Dallas/Ft Worth', 'Denver', 'Detroit', 'Houston', 'Los Angeles', 'Manhattan', 'Nashville', 'Northern New Jersey', 'Northern Virginia', 'Orange County', 'Philadelphia', 'Phoenix', 'Raleigh/Durham', 'Salt Lake City', 'San Diego', 'San Francisco', 'Seattle', 'South Bay/San Jose', 'South Florida', 'Maryland', 'Tampa', 'Washington D.C.']\n",
    "\n",
    "for market in markets:\n",
    "    answer_A, answer_O = run_price_analysis(REGION, market)\n",
    "    rent_forecasts[market] = (answer_A, answer_O)"
   ]
  },
  {
   "cell_type": "code",
   "execution_count": null,
   "id": "1b1e4c82",
   "metadata": {},
   "outputs": [],
   "source": [
    "rent_forecasts"
   ]
  },
  {
   "cell_type": "code",
   "execution_count": null,
   "id": "d9c9f1f1",
   "metadata": {},
   "outputs": [],
   "source": [
    "def run_price_analysis(REGION, MARKET):\n",
    "\n",
    "    print(f\"Collect data for the {MARKET} market in the {REGION} region\")\n",
    "    region_data, market_data, market_data_from_price_dataset = break_up_data(REGION, MARKET)\n",
    "    dataset = market_data_from_price_dataset\n",
    "    \n",
    "    dataset, removed = drop_na_rows('internal_class_rent', dataset)\n",
    "    print(f\"Dropped {removed} empty rows\")\n",
    "    \n",
    "    print(f'Split by quality')\n",
    "    A_dataset, O_dataset = split_by_quality(dataset)\n",
    "    \n",
    "    print('Plot prices')\n",
    "    plot_prices(A_dataset, 'A', MARKET)\n",
    "    plot_prices(O_dataset, 'O', MARKET)\n",
    "    \n",
    "    print(\"Forecast 2025 prices\")\n",
    "    A_prices = A_dataset['internal_class_rent'].values.tolist()\n",
    "    O_prices = O_dataset['internal_class_rent'].values.tolist()\n",
    "    \n",
    "    A_futures = get_future_rent(A_prices)\n",
    "    O_futures = get_future_rent(O_prices)\n",
    "    \n",
    "    return A_futures, O_futures"
   ]
  },
  {
   "cell_type": "code",
   "execution_count": null,
   "id": "81bd1280",
   "metadata": {},
   "outputs": [],
   "source": [
    "def get_future_rent(rents):\n",
    "    growth_rates = []\n",
    "    \n",
    "    # Calculate growth rates for the last 3 quarters\n",
    "    for i in range(len(rents) - 4, len(rents) - 1):\n",
    "        rate = (rents[i + 1] - rents[i]) / rents[i]\n",
    "        growth_rates.append(rate)\n",
    "\n",
    "    # Calculate average growth rate\n",
    "    avg_growth_rate = sum(growth_rates) / len(growth_rates)\n",
    "\n",
    "    # Generate predictions for 2025 Q1-Q4 using only growth rate method\n",
    "    last_price = rents[-1]  # Start with 2024-Q4 price\n",
    "    predictions_2025 = []\n",
    "\n",
    "    for _ in range(4):\n",
    "        next_price = last_price * (1 + avg_growth_rate)\n",
    "        predictions_2025.append(round(next_price, 1))\n",
    "        last_price = next_price  # Use unrounded value for next calculation\n",
    "\n",
    "    return predictions_2025"
   ]
  },
  {
   "cell_type": "code",
   "execution_count": null,
   "id": "4c3aa148",
   "metadata": {},
   "outputs": [],
   "source": [
    "def break_up_data(REGION, MARKET):\n",
    "    region   = leases[leases['region'] == REGION]\n",
    "    market   = region[region['market'] == MARKET]\n",
    "    market_p = prices[prices['market'] == MARKET]\n",
    "    \n",
    "    return (region, market, market_p)"
   ]
  },
  {
   "cell_type": "code",
   "execution_count": null,
   "id": "6aa90a25",
   "metadata": {},
   "outputs": [],
   "source": [
    "def split_by_quality(dataset):\n",
    "    dataset_A = dataset[dataset['internal_class'] == 'A']\n",
    "    dataset_O = dataset[dataset['internal_class'] == 'O']\n",
    "    \n",
    "    return (dataset_A, dataset_O)"
   ]
  },
  {
   "cell_type": "code",
   "execution_count": null,
   "id": "9160c074",
   "metadata": {},
   "outputs": [],
   "source": [
    "def drop_na_rows(column_name, dataset):\n",
    "    original_count = len(dataset)\n",
    "    dataset        = dataset.dropna(subset=[column_name])\n",
    "    new_count =  len(dataset)\n",
    "\n",
    "    removed_count = original_count - new_count\n",
    "    return (dataset, removed_count)"
   ]
  },
  {
   "cell_type": "code",
   "execution_count": null,
   "id": "8058b76a",
   "metadata": {},
   "outputs": [],
   "source": [
    "def plot_prices(dataset, quality, market):\n",
    "    plt.figure(figsize=(10, 6))\n",
    "    plt.plot(dataset['date'], dataset['internal_class_rent'], marker='o')\n",
    "    plt.xlabel('Quarter')\n",
    "    plt.ylabel('Rent')\n",
    "    plt.title(f'Price over Time for {quality}-leases in {market}')\n",
    "    plt.xticks(rotation=45)\n",
    "    plt.tight_layout()\n",
    "    plt.show()"
   ]
  },
  {
   "cell_type": "code",
   "execution_count": null,
   "id": "baee7cc6",
   "metadata": {},
   "outputs": [],
   "source": []
  }
 ],
 "metadata": {
  "kernelspec": {
   "display_name": "Python 3 (ipykernel)",
   "language": "python",
   "name": "python3"
  },
  "language_info": {
   "codemirror_mode": {
    "name": "ipython",
    "version": 3
   },
   "file_extension": ".py",
   "mimetype": "text/x-python",
   "name": "python",
   "nbconvert_exporter": "python",
   "pygments_lexer": "ipython3",
   "version": "3.11.5"
  }
 },
 "nbformat": 4,
 "nbformat_minor": 5
}
